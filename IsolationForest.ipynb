{
 "cells": [
  {
   "cell_type": "markdown",
   "metadata": {
    "ExecuteTime": {
     "end_time": "2020-05-06T16:57:57.705221Z",
     "start_time": "2020-05-06T16:57:57.700078Z"
    }
   },
   "source": [
    "<center><h2>Isolation Forest</h2>From scratch</center>"
   ]
  },
  {
   "cell_type": "markdown",
   "metadata": {
    "heading_collapsed": true
   },
   "source": [
    "#### Libraries"
   ]
  },
  {
   "cell_type": "code",
   "execution_count": 1,
   "metadata": {
    "ExecuteTime": {
     "end_time": "2020-05-06T16:12:29.826417Z",
     "start_time": "2020-05-06T16:12:29.805765Z"
    },
    "hidden": true
   },
   "outputs": [
    {
     "data": {
      "application/javascript": [
       "utils.load_extension('collapsible_headings/main')\n",
       "utils.load_extension('hide_input/main')\n",
       "utils.load_extension('autosavetime/main')\n",
       "utils.load_extension('execute_time/ExecuteTime')\n",
       "utils.load_extension('code_prettify/code_prettify')\n",
       "utils.load_extension('scroll_down/main')\n",
       "utils.load_extension('jupyter-js-widgets/extension')\n"
      ],
      "text/plain": [
       "<IPython.core.display.Javascript object>"
      ]
     },
     "metadata": {},
     "output_type": "display_data"
    }
   ],
   "source": [
    "%%javascript\n",
    "utils.load_extension('collapsible_headings/main')\n",
    "utils.load_extension('hide_input/main')\n",
    "utils.load_extension('autosavetime/main')\n",
    "utils.load_extension('execute_time/ExecuteTime')\n",
    "utils.load_extension('code_prettify/code_prettify')\n",
    "utils.load_extension('scroll_down/main')\n",
    "utils.load_extension('jupyter-js-widgets/extension')"
   ]
  },
  {
   "cell_type": "code",
   "execution_count": 2,
   "metadata": {
    "ExecuteTime": {
     "end_time": "2020-05-06T16:12:30.884426Z",
     "start_time": "2020-05-06T16:12:29.829380Z"
    },
    "hidden": true
   },
   "outputs": [],
   "source": [
    "import matplotlib.pyplot as plt\n",
    "import numpy as np\n",
    "import pandas as pd\n",
    "import random\n",
    "from pprint import pprint\n",
    "import seaborn as sns\n",
    "import pdb\n",
    "sns.set_style(style=\"whitegrid\")\n",
    "\n"
   ]
  },
  {
   "cell_type": "markdown",
   "metadata": {
    "heading_collapsed": true
   },
   "source": [
    "## Sample data"
   ]
  },
  {
   "cell_type": "code",
   "execution_count": 3,
   "metadata": {
    "ExecuteTime": {
     "end_time": "2020-05-06T16:12:31.089155Z",
     "start_time": "2020-05-06T16:12:30.886566Z"
    },
    "hidden": true
   },
   "outputs": [
    {
     "data": {
      "image/png": "[encoded data removed]",
      "text/plain": [
       "<Figure size 504x504 with 1 Axes>"
      ]
     },
     "metadata": {},
     "output_type": "display_data"
    }
   ],
   "source": [
    "mean = [0, 0]\n",
    "cov = [[1, 0], [0, 1]]  # diagonal covariance\n",
    "Nobjs = 2000\n",
    "x, y = np.random.multivariate_normal(mean, cov, Nobjs).T\n",
    "#Add manual outlier\n",
    "x[0]=3.3\n",
    "y[0]=3.3\n",
    "X=np.array([x,y]).T\n",
    "X = pd.DataFrame(X,columns=['feat1','feat2'])\n",
    "plt.figure(figsize=(7,7))\n",
    "plt.plot(x,y,'bo');"
   ]
  },
  {
   "cell_type": "markdown",
   "metadata": {},
   "source": [
    "## Isolation tree\n",
    " 1. Get sample of data\n",
    " 2. Randomly select dimension\n",
    " 3. Randomly pick a value in the dimension\n",
    " 4. Split the data\n"
   ]
  },
  {
   "cell_type": "markdown",
   "metadata": {},
   "source": [
    "<img src=\"images/tree_pseudo.png\" alt=\"Drawing\" style=\"width: 400px;\"/>"
   ]
  },
  {
   "cell_type": "markdown",
   "metadata": {
    "heading_collapsed": true
   },
   "source": [
    "### Sample the data"
   ]
  },
  {
   "cell_type": "code",
   "execution_count": 4,
   "metadata": {
    "ExecuteTime": {
     "end_time": "2020-05-06T16:12:31.095813Z",
     "start_time": "2020-05-06T16:12:31.092545Z"
    },
    "hidden": true
   },
   "outputs": [],
   "source": [
    "def select_point(data):\n",
    "    n_samples,n_columns = data.shape\n",
    "    return data.iloc[random.choice(list(range(n_samples)))]"
   ]
  },
  {
   "cell_type": "code",
   "execution_count": 5,
   "metadata": {
    "ExecuteTime": {
     "end_time": "2020-05-06T16:12:31.105811Z",
     "start_time": "2020-05-06T16:12:31.097608Z"
    },
    "hidden": true,
    "scrolled": true
   },
   "outputs": [
    {
     "data": {
      "text/plain": [
       "feat1   -2.507582\n",
       "feat2   -0.433486\n",
       "Name: 1169, dtype: float64"
      ]
     },
     "execution_count": 5,
     "metadata": {},
     "output_type": "execute_result"
    }
   ],
   "source": [
    "select_point(X)"
   ]
  },
  {
   "cell_type": "markdown",
   "metadata": {
    "ExecuteTime": {
     "end_time": "2020-05-06T16:05:41.616623Z",
     "start_time": "2020-05-06T16:05:41.612745Z"
    }
   },
   "source": [
    "### Select a dimension"
   ]
  },
  {
   "cell_type": "code",
   "execution_count": 6,
   "metadata": {
    "ExecuteTime": {
     "end_time": "2020-05-06T16:12:31.116664Z",
     "start_time": "2020-05-06T16:12:31.108294Z"
    }
   },
   "outputs": [],
   "source": [
    "def select_feature(data): \n",
    "    return random.choice(data.columns)"
   ]
  },
  {
   "cell_type": "markdown",
   "metadata": {},
   "source": [
    "### Select a value in the dimension"
   ]
  },
  {
   "cell_type": "code",
   "execution_count": 7,
   "metadata": {
    "ExecuteTime": {
     "end_time": "2020-05-06T16:12:31.123400Z",
     "start_time": "2020-05-06T16:12:31.119980Z"
    }
   },
   "outputs": [],
   "source": [
    "def select_value(data,feat):\n",
    "    mini = data[feat].min()\n",
    "    maxi = data[feat].max()\n",
    "    return (maxi-mini)*np.random.random()+mini\n",
    "    "
   ]
  },
  {
   "cell_type": "code",
   "execution_count": 8,
   "metadata": {
    "ExecuteTime": {
     "end_time": "2020-05-06T16:12:31.135872Z",
     "start_time": "2020-05-06T16:12:31.127142Z"
    }
   },
   "outputs": [
    {
     "data": {
      "text/plain": [
       "1.2106357731560884"
      ]
     },
     "execution_count": 8,
     "metadata": {},
     "output_type": "execute_result"
    }
   ],
   "source": [
    "select_value(X,select_feature(X))"
   ]
  },
  {
   "cell_type": "markdown",
   "metadata": {},
   "source": [
    "### Split Data"
   ]
  },
  {
   "cell_type": "code",
   "execution_count": 9,
   "metadata": {
    "ExecuteTime": {
     "end_time": "2020-05-06T16:12:31.143109Z",
     "start_time": "2020-05-06T16:12:31.137764Z"
    }
   },
   "outputs": [],
   "source": [
    "def split_data(data, split_column, split_value):\n",
    "\n",
    "    data_below = data[data[split_column] <= split_value]\n",
    "    data_above = data[data[split_column] >  split_value]\n",
    "    \n",
    "    return data_below, data_above"
   ]
  },
  {
   "cell_type": "code",
   "execution_count": 10,
   "metadata": {
    "ExecuteTime": {
     "end_time": "2020-05-06T16:12:31.154092Z",
     "start_time": "2020-05-06T16:12:31.145654Z"
    }
   },
   "outputs": [],
   "source": [
    "a,b =split_data(X,\n",
    "           select_feature(X),\n",
    "          select_value(X,select_feature(X)))"
   ]
  },
  {
   "cell_type": "markdown",
   "metadata": {},
   "source": [
    "### Isolation Tree"
   ]
  },
  {
   "cell_type": "code",
   "execution_count": 55,
   "metadata": {
    "ExecuteTime": {
     "end_time": "2020-05-06T16:21:41.678673Z",
     "start_time": "2020-05-06T16:21:41.671792Z"
    }
   },
   "outputs": [],
   "source": [
    "def isolation_tree(df,counter=0, max_depth=50,random_subspace=False):\n",
    "        # data preparations\n",
    "    if counter == 0:\n",
    "        global COLUMN_HEADERS   \n",
    "        COLUMN_HEADERS = df.columns\n",
    "        data = df\n",
    "        \n",
    "        global counter_hist\n",
    "        \n",
    "        global instance\n",
    "        instance = select_point(data)\n",
    "        \n",
    "\n",
    "\n",
    "        \n",
    "    else:\n",
    "        data = df\n",
    "       \n",
    "    # Strop criteria    \n",
    "    if (data.shape[0]==1):\n",
    "        return 'isolated'\n",
    "    elif counter == max_depth:\n",
    "        return 'max_depth'\n",
    "    \n",
    "    else:\n",
    "        # Counter\n",
    "        counter +=1\n",
    "        counter_hist.append(counter)\n",
    "        \n",
    "        # Select feature\n",
    "        split_column = select_feature(data)\n",
    "        \n",
    "        # Select value\n",
    "        split_value = select_value(data,split_column)\n",
    "\n",
    "        # Split data\n",
    "        data_below, data_above = split_data(data,split_column,split_value)\n",
    "        \n",
    "        \n",
    "        \n",
    "        # instantiate sub-tree      \n",
    "        question = \"{} <= {}\".format(split_column, split_value)\n",
    "        sub_tree = {question: []}\n",
    "        \n",
    "        \n",
    "        # find answers (recursion)\n",
    "        below_answer='below'\n",
    "        above_answer = 'above'\n",
    "        if (data_below == instance).all(1).any():\n",
    "            below_answer = isolation_tree(data_below, counter,max_depth)\n",
    "            sub_tree[question].append(below_answer)\n",
    "            \n",
    "        else:\n",
    "            above_answer = isolation_tree(data_above, counter, max_depth)\n",
    "            sub_tree[question].append(above_answer)\n",
    "        \n",
    "\n",
    "        return sub_tree\n",
    "        \n",
    "    "
   ]
  },
  {
   "cell_type": "code",
   "execution_count": 62,
   "metadata": {
    "ExecuteTime": {
     "end_time": "2020-05-06T16:21:55.856107Z",
     "start_time": "2020-05-06T16:21:55.849002Z"
    }
   },
   "outputs": [],
   "source": [
    "counter_hist = []\n",
    "tree = isolation_tree(X.head(2))"
   ]
  },
  {
   "cell_type": "code",
   "execution_count": 63,
   "metadata": {
    "ExecuteTime": {
     "end_time": "2020-05-06T16:21:56.166885Z",
     "start_time": "2020-05-06T16:21:56.162316Z"
    },
    "scrolled": true
   },
   "outputs": [
    {
     "name": "stdout",
     "output_type": "stream",
     "text": [
      "{'feat2 <= 2.4804026248650457': ['isolated']}\n"
     ]
    }
   ],
   "source": [
    "pprint(tree)"
   ]
  },
  {
   "cell_type": "code",
   "execution_count": 64,
   "metadata": {
    "ExecuteTime": {
     "end_time": "2020-05-06T16:22:22.259728Z",
     "start_time": "2020-05-06T16:22:22.253183Z"
    }
   },
   "outputs": [
    {
     "data": {
      "text/plain": [
       "dict_values([['isolated']])"
      ]
     },
     "execution_count": 64,
     "metadata": {},
     "output_type": "execute_result"
    }
   ],
   "source": [
    "tree.values()"
   ]
  },
  {
   "cell_type": "code",
   "execution_count": 65,
   "metadata": {
    "ExecuteTime": {
     "end_time": "2020-05-06T16:22:26.706357Z",
     "start_time": "2020-05-06T16:22:26.700300Z"
    }
   },
   "outputs": [
    {
     "data": {
      "text/plain": [
       "[1]"
      ]
     },
     "execution_count": 65,
     "metadata": {},
     "output_type": "execute_result"
    }
   ],
   "source": [
    "counter_hist"
   ]
  },
  {
   "cell_type": "code",
   "execution_count": 76,
   "metadata": {
    "ExecuteTime": {
     "end_time": "2020-05-06T16:23:39.415181Z",
     "start_time": "2020-05-06T16:23:39.409565Z"
    }
   },
   "outputs": [
    {
     "data": {
      "text/plain": [
       "'feat2 <= 2.4804026248650457'"
      ]
     },
     "execution_count": 76,
     "metadata": {},
     "output_type": "execute_result"
    }
   ],
   "source": [
    "list(tree.keys())[0]"
   ]
  },
  {
   "cell_type": "code",
   "execution_count": 66,
   "metadata": {
    "ExecuteTime": {
     "end_time": "2020-05-06T16:22:27.848649Z",
     "start_time": "2020-05-06T16:22:27.844554Z"
    }
   },
   "outputs": [],
   "source": [
    "question = list(tree.keys())[0]\n",
    "feature_name, comparison_operator, value = question.split()"
   ]
  },
  {
   "cell_type": "code",
   "execution_count": 67,
   "metadata": {
    "ExecuteTime": {
     "end_time": "2020-05-06T16:22:28.741521Z",
     "start_time": "2020-05-06T16:22:28.736186Z"
    }
   },
   "outputs": [],
   "source": [
    "def classify_example(example, tree):\n",
    "    question = list(tree.keys())[0]\n",
    "    feature_name, comparison_operator, value = question.split()\n",
    "\n",
    "    # ask question\n",
    "    if example[feature_name] <= float(value):\n",
    "        answer = tree[question][0]\n",
    "        print(answer)\n",
    "    else:\n",
    "        answer = tree[question][1]\n",
    "        print(answer)\n",
    "    # base case\n",
    "    if not isinstance(answer, dict):\n",
    "        return answer\n",
    "    \n",
    "    # recursive part\n",
    "    else:\n",
    "        residual_tree = answer\n",
    "        return classify_example(example, residual_tree)"
   ]
  },
  {
   "cell_type": "code",
   "execution_count": 77,
   "metadata": {
    "ExecuteTime": {
     "end_time": "2020-05-06T16:24:58.725438Z",
     "start_time": "2020-05-06T16:24:58.719167Z"
    }
   },
   "outputs": [
    {
     "name": "stdout",
     "output_type": "stream",
     "text": [
      "isolated\n"
     ]
    },
    {
     "data": {
      "text/plain": [
       "'isolated'"
      ]
     },
     "execution_count": 77,
     "metadata": {},
     "output_type": "execute_result"
    }
   ],
   "source": [
    "classify_example(X.iloc[1],tree)"
   ]
  },
  {
   "cell_type": "markdown",
   "metadata": {},
   "source": [
    "# Forest\n",
    "\n",
    " 1. For each tree\n",
    " 2. Sample Data\n",
    " 3. Fit tree"
   ]
  },
  {
   "cell_type": "markdown",
   "metadata": {},
   "source": [
    "<img src=\"images/forest_pseudo.png\" alt=\"Drawing\" style=\"width: 400px;\"/>"
   ]
  },
  {
   "cell_type": "code",
   "execution_count": 84,
   "metadata": {
    "ExecuteTime": {
     "end_time": "2020-05-06T16:33:14.200492Z",
     "start_time": "2020-05-06T16:33:14.196244Z"
    }
   },
   "outputs": [],
   "source": [
    "def isolation_forest(df,n_trees=5, max_depth=5, subspace=1):\n",
    "    forest = []\n",
    "\n",
    "    for i in range(n_trees):\n",
    "        # Sample the subspace\n",
    "        df = df.sample(frac=subspace)\n",
    "\n",
    "        # Fit tree\n",
    "        tree = isolation_tree(df)\n",
    "        \n",
    "        # Save tree to forest\n",
    "        forest.append(tree)\n",
    "    \n",
    "    return forest\n",
    "        \n",
    "        "
   ]
  },
  {
   "cell_type": "code",
   "execution_count": 86,
   "metadata": {
    "ExecuteTime": {
     "end_time": "2020-05-06T16:39:08.241115Z",
     "start_time": "2020-05-06T16:39:08.031367Z"
    }
   },
   "outputs": [],
   "source": [
    "isolation_forest(X);\n"
   ]
  },
  {
   "cell_type": "markdown",
   "metadata": {},
   "source": [
    "## Path Length"
   ]
  },
  {
   "cell_type": "markdown",
   "metadata": {
    "ExecuteTime": {
     "end_time": "2020-05-06T16:51:47.691834Z",
     "start_time": "2020-05-06T16:51:47.687093Z"
    }
   },
   "source": [
    "<img src=\"images/path_pseudo.png\" alt=\"Drawing\" style=\"width: 400px;\"/>"
   ]
  },
  {
   "cell_type": "code",
   "execution_count": null,
   "metadata": {},
   "outputs": [],
   "source": []
  }
 ],
 "metadata": {
  "kernelspec": {
   "display_name": "Python 3",
   "language": "python",
   "name": "python3"
  },
  "language_info": {
   "codemirror_mode": {
    "name": "ipython",
    "version": 3
   },
   "file_extension": ".py",
   "mimetype": "text/x-python",
   "name": "python",
   "nbconvert_exporter": "python",
   "pygments_lexer": "ipython3",
   "version": "3.6.8"
  }
 },
 "nbformat": 4,
 "nbformat_minor": 2
}
