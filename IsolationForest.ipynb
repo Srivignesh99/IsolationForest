{
 "cells": [
  {
   "cell_type": "markdown",
   "metadata": {
    "ExecuteTime": {
     "end_time": "2020-05-06T16:57:57.705221Z",
     "start_time": "2020-05-06T16:57:57.700078Z"
    }
   },
   "source": [
    "<center><h2>Isolation Forest</h2>From scratch</center>"
   ]
  },
  {
   "cell_type": "markdown",
   "metadata": {},
   "source": [
    "#### Libraries"
   ]
  },
  {
   "cell_type": "code",
   "execution_count": 1,
   "metadata": {
    "ExecuteTime": {
     "end_time": "2020-05-10T08:56:52.059219Z",
     "start_time": "2020-05-10T08:56:52.041662Z"
    }
   },
   "outputs": [
    {
     "data": {
      "application/javascript": [
       "utils.load_extension('collapsible_headings/main')\n",
       "utils.load_extension('hide_input/main')\n",
       "utils.load_extension('autosavetime/main')\n",
       "utils.load_extension('execute_time/ExecuteTime')\n",
       "utils.load_extension('code_prettify/code_prettify')\n",
       "utils.load_extension('scroll_down/main')\n",
       "utils.load_extension('jupyter-js-widgets/extension')\n"
      ],
      "text/plain": [
       "<IPython.core.display.Javascript object>"
      ]
     },
     "metadata": {},
     "output_type": "display_data"
    }
   ],
   "source": [
    "%%javascript\n",
    "utils.load_extension('collapsible_headings/main')\n",
    "utils.load_extension('hide_input/main')\n",
    "utils.load_extension('autosavetime/main')\n",
    "utils.load_extension('execute_time/ExecuteTime')\n",
    "utils.load_extension('code_prettify/code_prettify')\n",
    "utils.load_extension('scroll_down/main')\n",
    "utils.load_extension('jupyter-js-widgets/extension')"
   ]
  },
  {
   "cell_type": "code",
   "execution_count": 2,
   "metadata": {
    "ExecuteTime": {
     "end_time": "2020-05-10T08:56:54.098827Z",
     "start_time": "2020-05-10T08:56:52.061319Z"
    }
   },
   "outputs": [],
   "source": [
    "import matplotlib.pyplot as plt\n",
    "import numpy as np\n",
    "import pandas as pd\n",
    "import random\n",
    "from pprint import pprint\n",
    "import seaborn as sns\n",
    "import pdb\n",
    "sns.set_style(style=\"whitegrid\")\n",
    "\n"
   ]
  },
  {
   "cell_type": "markdown",
   "metadata": {},
   "source": [
    "## Sample data"
   ]
  },
  {
   "cell_type": "code",
   "execution_count": 3,
   "metadata": {
    "ExecuteTime": {
     "end_time": "2020-05-10T08:56:54.362245Z",
     "start_time": "2020-05-10T08:56:54.101102Z"
    }
   },
   "outputs": [
    {
     "data": {
      "image/png": "[encoded data removed]",
      "text/plain": [
       "<Figure size 504x504 with 1 Axes>"
      ]
     },
     "metadata": {},
     "output_type": "display_data"
    }
   ],
   "source": [
    "mean = [0, 0]\n",
    "cov = [[1, 0], [0, 1]]  # diagonal covariance\n",
    "Nobjs = 2000\n",
    "x, y = np.random.multivariate_normal(mean, cov, Nobjs).T\n",
    "#Add manual outlier\n",
    "x[0]=3.3\n",
    "y[0]=3.3\n",
    "X=np.array([x,y]).T\n",
    "X = pd.DataFrame(X,columns=['feat1','feat2'])\n",
    "plt.figure(figsize=(7,7))\n",
    "plt.plot(x,y,'bo');"
   ]
  },
  {
   "cell_type": "markdown",
   "metadata": {},
   "source": [
    "## Isolation tree\n",
    " 1. Get sample of data\n",
    " 2. Randomly select dimension\n",
    " 3. Randomly pick a value in the dimension\n",
    " 4. Split the data\n"
   ]
  },
  {
   "cell_type": "markdown",
   "metadata": {},
   "source": [
    "<img src=\"images/tree_pseudo.png\" alt=\"Drawing\" style=\"width: 400px;\"/>"
   ]
  },
  {
   "cell_type": "code",
   "execution_count": 4,
   "metadata": {
    "ExecuteTime": {
     "end_time": "2020-05-10T08:56:54.373412Z",
     "start_time": "2020-05-10T08:56:54.368477Z"
    }
   },
   "outputs": [
    {
     "data": {
      "text/plain": [
       "False"
      ]
     },
     "execution_count": 4,
     "metadata": {},
     "output_type": "execute_result"
    }
   ],
   "source": [
    "b=4\n",
    "b<=3"
   ]
  },
  {
   "cell_type": "markdown",
   "metadata": {},
   "source": [
    "### Sample the data"
   ]
  },
  {
   "cell_type": "code",
   "execution_count": 5,
   "metadata": {
    "ExecuteTime": {
     "end_time": "2020-05-10T08:56:54.381499Z",
     "start_time": "2020-05-10T08:56:54.377202Z"
    }
   },
   "outputs": [],
   "source": [
    "def select_point(data):\n",
    "    n_samples,n_columns = data.shape\n",
    "    return data.iloc[random.choice(list(range(n_samples)))]"
   ]
  },
  {
   "cell_type": "code",
   "execution_count": 6,
   "metadata": {
    "ExecuteTime": {
     "end_time": "2020-05-10T08:56:54.394771Z",
     "start_time": "2020-05-10T08:56:54.383229Z"
    },
    "scrolled": true
   },
   "outputs": [
    {
     "data": {
      "text/plain": [
       "feat1   -0.009301\n",
       "feat2    0.636746\n",
       "Name: 1124, dtype: float64"
      ]
     },
     "execution_count": 6,
     "metadata": {},
     "output_type": "execute_result"
    }
   ],
   "source": [
    "select_point(X)"
   ]
  },
  {
   "cell_type": "markdown",
   "metadata": {
    "ExecuteTime": {
     "end_time": "2020-05-06T16:05:41.616623Z",
     "start_time": "2020-05-06T16:05:41.612745Z"
    }
   },
   "source": [
    "### Select a dimension"
   ]
  },
  {
   "cell_type": "code",
   "execution_count": 7,
   "metadata": {
    "ExecuteTime": {
     "end_time": "2020-05-10T08:56:54.400952Z",
     "start_time": "2020-05-10T08:56:54.397091Z"
    }
   },
   "outputs": [],
   "source": [
    "def select_feature(data): \n",
    "    return random.choice(data.columns)"
   ]
  },
  {
   "cell_type": "markdown",
   "metadata": {},
   "source": [
    "### Select a value in the dimension"
   ]
  },
  {
   "cell_type": "code",
   "execution_count": 8,
   "metadata": {
    "ExecuteTime": {
     "end_time": "2020-05-10T08:56:54.408035Z",
     "start_time": "2020-05-10T08:56:54.404031Z"
    }
   },
   "outputs": [],
   "source": [
    "def select_value(data,feat):\n",
    "    mini = data[feat].min()\n",
    "    maxi = data[feat].max()\n",
    "    return (maxi-mini)*np.random.random()+mini\n",
    "    "
   ]
  },
  {
   "cell_type": "code",
   "execution_count": 9,
   "metadata": {
    "ExecuteTime": {
     "end_time": "2020-05-10T08:56:54.418136Z",
     "start_time": "2020-05-10T08:56:54.410664Z"
    }
   },
   "outputs": [
    {
     "data": {
      "text/plain": [
       "2.416717603798817"
      ]
     },
     "execution_count": 9,
     "metadata": {},
     "output_type": "execute_result"
    }
   ],
   "source": [
    "select_value(X,select_feature(X))"
   ]
  },
  {
   "cell_type": "markdown",
   "metadata": {},
   "source": [
    "### Split Data"
   ]
  },
  {
   "cell_type": "code",
   "execution_count": 10,
   "metadata": {
    "ExecuteTime": {
     "end_time": "2020-05-10T08:56:54.426171Z",
     "start_time": "2020-05-10T08:56:54.421340Z"
    }
   },
   "outputs": [],
   "source": [
    "def split_data(data, split_column, split_value):\n",
    "\n",
    "    data_below = data[data[split_column] <= split_value]\n",
    "    data_above = data[data[split_column] >  split_value]\n",
    "    \n",
    "    return data_below, data_above"
   ]
  },
  {
   "cell_type": "code",
   "execution_count": 11,
   "metadata": {
    "ExecuteTime": {
     "end_time": "2020-05-10T08:56:54.438775Z",
     "start_time": "2020-05-10T08:56:54.430451Z"
    }
   },
   "outputs": [],
   "source": [
    "a,b =split_data(X,\n",
    "           select_feature(X),\n",
    "          select_value(X,select_feature(X)))"
   ]
  },
  {
   "cell_type": "markdown",
   "metadata": {},
   "source": [
    "### Isolation Tree"
   ]
  },
  {
   "cell_type": "code",
   "execution_count": 12,
   "metadata": {
    "ExecuteTime": {
     "end_time": "2020-05-10T08:56:54.456093Z",
     "start_time": "2020-05-10T08:56:54.441254Z"
    }
   },
   "outputs": [
    {
     "data": {
      "text/html": [
       "<div>\n",
       "<style scoped>\n",
       "    .dataframe tbody tr th:only-of-type {\n",
       "        vertical-align: middle;\n",
       "    }\n",
       "\n",
       "    .dataframe tbody tr th {\n",
       "        vertical-align: top;\n",
       "    }\n",
       "\n",
       "    .dataframe thead th {\n",
       "        text-align: right;\n",
       "    }\n",
       "</style>\n",
       "<table border=\"1\" class=\"dataframe\">\n",
       "  <thead>\n",
       "    <tr style=\"text-align: right;\">\n",
       "      <th></th>\n",
       "      <th>feat1</th>\n",
       "      <th>feat2</th>\n",
       "    </tr>\n",
       "  </thead>\n",
       "  <tbody>\n",
       "    <tr>\n",
       "      <th>0</th>\n",
       "      <td>3.300000</td>\n",
       "      <td>3.300000</td>\n",
       "    </tr>\n",
       "    <tr>\n",
       "      <th>1</th>\n",
       "      <td>0.741128</td>\n",
       "      <td>-0.365793</td>\n",
       "    </tr>\n",
       "    <tr>\n",
       "      <th>2</th>\n",
       "      <td>0.815561</td>\n",
       "      <td>-1.087631</td>\n",
       "    </tr>\n",
       "    <tr>\n",
       "      <th>3</th>\n",
       "      <td>0.691110</td>\n",
       "      <td>1.301502</td>\n",
       "    </tr>\n",
       "    <tr>\n",
       "      <th>4</th>\n",
       "      <td>0.340905</td>\n",
       "      <td>-0.057931</td>\n",
       "    </tr>\n",
       "    <tr>\n",
       "      <th>...</th>\n",
       "      <td>...</td>\n",
       "      <td>...</td>\n",
       "    </tr>\n",
       "    <tr>\n",
       "      <th>1995</th>\n",
       "      <td>-0.585715</td>\n",
       "      <td>1.101797</td>\n",
       "    </tr>\n",
       "    <tr>\n",
       "      <th>1996</th>\n",
       "      <td>1.734285</td>\n",
       "      <td>-0.324772</td>\n",
       "    </tr>\n",
       "    <tr>\n",
       "      <th>1997</th>\n",
       "      <td>-0.972723</td>\n",
       "      <td>0.430621</td>\n",
       "    </tr>\n",
       "    <tr>\n",
       "      <th>1998</th>\n",
       "      <td>0.349796</td>\n",
       "      <td>-0.838875</td>\n",
       "    </tr>\n",
       "    <tr>\n",
       "      <th>1999</th>\n",
       "      <td>1.693319</td>\n",
       "      <td>-1.781530</td>\n",
       "    </tr>\n",
       "  </tbody>\n",
       "</table>\n",
       "<p>2000 rows × 2 columns</p>\n",
       "</div>"
      ],
      "text/plain": [
       "         feat1     feat2\n",
       "0     3.300000  3.300000\n",
       "1     0.741128 -0.365793\n",
       "2     0.815561 -1.087631\n",
       "3     0.691110  1.301502\n",
       "4     0.340905 -0.057931\n",
       "...        ...       ...\n",
       "1995 -0.585715  1.101797\n",
       "1996  1.734285 -0.324772\n",
       "1997 -0.972723  0.430621\n",
       "1998  0.349796 -0.838875\n",
       "1999  1.693319 -1.781530\n",
       "\n",
       "[2000 rows x 2 columns]"
      ]
     },
     "execution_count": 12,
     "metadata": {},
     "output_type": "execute_result"
    }
   ],
   "source": [
    "X"
   ]
  },
  {
   "cell_type": "code",
   "execution_count": 13,
   "metadata": {
    "ExecuteTime": {
     "end_time": "2020-05-10T08:56:54.464522Z",
     "start_time": "2020-05-10T08:56:54.459177Z"
    }
   },
   "outputs": [],
   "source": [
    "def classify_data(data):\n",
    "    \n",
    "    label_column = data.values[:, -1]\n",
    "    unique_classes, counts_unique_classes = np.unique(label_column, return_counts=True)\n",
    "\n",
    "    index = counts_unique_classes.argmax()\n",
    "    classification = unique_classes[index]\n",
    "    \n",
    "    return classification"
   ]
  },
  {
   "cell_type": "code",
   "execution_count": 14,
   "metadata": {
    "ExecuteTime": {
     "end_time": "2020-05-10T08:56:54.475535Z",
     "start_time": "2020-05-10T08:56:54.467539Z"
    }
   },
   "outputs": [
    {
     "data": {
      "text/plain": [
       "-3.3668611359280263"
      ]
     },
     "execution_count": 14,
     "metadata": {},
     "output_type": "execute_result"
    }
   ],
   "source": [
    "classify_data(X)"
   ]
  },
  {
   "cell_type": "code",
   "execution_count": 184,
   "metadata": {
    "ExecuteTime": {
     "end_time": "2020-05-10T11:10:07.156863Z",
     "start_time": "2020-05-10T11:10:07.149824Z"
    }
   },
   "outputs": [],
   "source": [
    "def isolation_tree(df,counter=0, max_depth=50,random_subspace=False):\n",
    "        # data preparations\n",
    "    if counter == 0:\n",
    "        global COLUMN_HEADERS   \n",
    "        COLUMN_HEADERS = df.columns\n",
    "        data = df\n",
    "        \n",
    "        global counter_hist\n",
    "        \n",
    "        global instance\n",
    "        instance = select_point(data)\n",
    "   \n",
    "    else:\n",
    "        data = df\n",
    "       \n",
    "\n",
    "    \n",
    "    if (counter == max_depth) or data.shape[0]<=1:\n",
    "        classification = classify_data(data)\n",
    "\n",
    "        return classification\n",
    "    \n",
    "    else:\n",
    "        # Counter\n",
    "        counter +=1\n",
    "        \n",
    "        # Select feature\n",
    "        split_column = select_feature(data)\n",
    "        \n",
    "        # Select value\n",
    "        split_value = select_value(data,split_column)\n",
    "\n",
    "\n",
    "        # Split data\n",
    "        data_below, data_above = split_data(data,split_column,split_value)\n",
    "        \n",
    "        \n",
    "        \n",
    "        # instantiate sub-tree      \n",
    "        question = \"{} <= {}\".format(split_column, split_value)\n",
    "        sub_tree = {question: []}\n",
    "        \n",
    "         # find answers (recursion)\n",
    "        yes_answer = isolation_tree(data_below, counter,max_depth=max_depth)\n",
    "        no_answer = isolation_tree(data_above, counter,max_depth=max_depth)\n",
    "        \n",
    "        # If the answers are the same, then there is no point in asking the qestion.\n",
    "        # This could happen when the data is classified even though it is not pure\n",
    "        # yet (min_samples or max_depth base cases).\n",
    "        if yes_answer == no_answer:\n",
    "            sub_tree = yes_answer\n",
    "        else:\n",
    "            sub_tree[question].append(yes_answer)\n",
    "            sub_tree[question].append(no_answer)\n",
    "        \n",
    "        return sub_tree\n",
    "    \n",
    "    \n",
    "        \n",
    "    "
   ]
  },
  {
   "cell_type": "code",
   "execution_count": 185,
   "metadata": {
    "ExecuteTime": {
     "end_time": "2020-05-10T11:10:07.384094Z",
     "start_time": "2020-05-10T11:10:07.375947Z"
    }
   },
   "outputs": [
    {
     "name": "stdout",
     "output_type": "stream",
     "text": [
      "{'feat2 <= -0.3112805917592687': [-1.087630779926135, -0.05793117124449048]}\n"
     ]
    }
   ],
   "source": [
    "tree = isolation_tree(X.head(6), max_depth=1)\n",
    "pprint(tree)"
   ]
  },
  {
   "cell_type": "markdown",
   "metadata": {},
   "source": [
    "# Forest\n",
    "\n",
    " 1. For each tree\n",
    " 2. Sample Data\n",
    " 3. Fit tree"
   ]
  },
  {
   "cell_type": "markdown",
   "metadata": {},
   "source": [
    "<img src=\"images/forest_pseudo.png\" alt=\"Drawing\" style=\"width: 400px;\"/>"
   ]
  },
  {
   "cell_type": "code",
   "execution_count": 186,
   "metadata": {
    "ExecuteTime": {
     "end_time": "2020-05-10T11:10:07.789484Z",
     "start_time": "2020-05-10T11:10:07.786158Z"
    }
   },
   "outputs": [],
   "source": [
    "def isolation_forest(df,n_trees=5, max_depth=5, subspace=1):\n",
    "    forest = []\n",
    "\n",
    "    for i in range(n_trees):\n",
    "        # Sample the subspace\n",
    "        df = df.sample(frac=subspace)\n",
    "\n",
    "        # Fit tree\n",
    "        tree = isolation_tree(df,max_depth=max_depth)\n",
    "        \n",
    "        # Save tree to forest\n",
    "        forest.append(tree)\n",
    "    \n",
    "    return forest\n",
    "        \n",
    "        "
   ]
  },
  {
   "cell_type": "code",
   "execution_count": 187,
   "metadata": {
    "ExecuteTime": {
     "end_time": "2020-05-10T11:10:08.092125Z",
     "start_time": "2020-05-10T11:10:07.928198Z"
    }
   },
   "outputs": [],
   "source": [
    "isolation_forest(X);\n"
   ]
  },
  {
   "cell_type": "markdown",
   "metadata": {},
   "source": [
    "## Path Length"
   ]
  },
  {
   "cell_type": "markdown",
   "metadata": {
    "ExecuteTime": {
     "end_time": "2020-05-06T16:51:47.691834Z",
     "start_time": "2020-05-06T16:51:47.687093Z"
    }
   },
   "source": [
    "<img src=\"images/path_pseudo.png\" alt=\"Drawing\" style=\"width: 400px;\"/>"
   ]
  },
  {
   "cell_type": "code",
   "execution_count": 287,
   "metadata": {
    "ExecuteTime": {
     "end_time": "2020-05-10T11:25:20.728887Z",
     "start_time": "2020-05-10T11:25:20.722999Z"
    }
   },
   "outputs": [],
   "source": [
    "def pathLength(example,iTree,path=0,trace=False):\n",
    "    path=path+1\n",
    "    question = list(iTree.keys())[0]\n",
    "    feature_name, comparison_operator, value = question.split()\n",
    "    \n",
    "    # ask question\n",
    "    if example[feature_name].values <= float(value):\n",
    "        \n",
    "        if trace:\n",
    "            pdb.set_trace()\n",
    "        answer = iTree[question][0]\n",
    "    else:\n",
    "        answer = iTree[question][1]\n",
    "        \n",
    "        \n",
    "    # base case\n",
    "    if not isinstance(answer, dict):\n",
    "        return path\n",
    "    \n",
    "    # recursive part\n",
    "    else:\n",
    "        residual_tree = answer\n",
    "        return pathLength(example, residual_tree,path=path)\n",
    "    \n",
    "    \n",
    "    \n",
    "    \n",
    "    \n",
    "    return path"
   ]
  },
  {
   "cell_type": "code",
   "execution_count": 297,
   "metadata": {
    "ExecuteTime": {
     "end_time": "2020-05-10T11:25:37.644197Z",
     "start_time": "2020-05-10T11:25:37.573829Z"
    }
   },
   "outputs": [],
   "source": [
    "tree = isolation_tree(X.head(50),max_depth=50)"
   ]
  },
  {
   "cell_type": "code",
   "execution_count": 303,
   "metadata": {
    "ExecuteTime": {
     "end_time": "2020-05-10T11:25:43.303495Z",
     "start_time": "2020-05-10T11:25:43.291181Z"
    },
    "scrolled": true
   },
   "outputs": [
    {
     "data": {
      "text/plain": [
       "6"
      ]
     },
     "execution_count": 303,
     "metadata": {},
     "output_type": "execute_result"
    }
   ],
   "source": [
    "ins = X.sample(1)\n",
    "pathLength(ins,tree,trace=False)"
   ]
  },
  {
   "cell_type": "code",
   "execution_count": null,
   "metadata": {},
   "outputs": [],
   "source": []
  },
  {
   "cell_type": "code",
   "execution_count": null,
   "metadata": {},
   "outputs": [],
   "source": []
  },
  {
   "cell_type": "code",
   "execution_count": null,
   "metadata": {
    "ExecuteTime": {
     "end_time": "2020-05-10T08:56:54.694673Z",
     "start_time": "2020-05-10T08:56:52.106Z"
    }
   },
   "outputs": [],
   "source": [
    "def c_factor(n) :\n",
    "    \"\"\"\n",
    "    Average path length of unsuccesful search in a binary search tree given n points\n",
    "    \n",
    "    Parameters\n",
    "    ----------\n",
    "    n : int\n",
    "        Number of data points for the BST.\n",
    "    Returns\n",
    "    -------\n",
    "    float\n",
    "        Average path length of unsuccesful search in a BST\n",
    "        \n",
    "    \"\"\"\n",
    "    return 2.0*(np.log(n-1)+0.5772156649) - (2.0*(n-1.)/(n*1.0))"
   ]
  },
  {
   "cell_type": "code",
   "execution_count": null,
   "metadata": {},
   "outputs": [],
   "source": []
  }
 ],
 "metadata": {
  "kernelspec": {
   "display_name": "Python 3",
   "language": "python",
   "name": "python3"
  },
  "language_info": {
   "codemirror_mode": {
    "name": "ipython",
    "version": 3
   },
   "file_extension": ".py",
   "mimetype": "text/x-python",
   "name": "python",
   "nbconvert_exporter": "python",
   "pygments_lexer": "ipython3",
   "version": "3.6.8"
  }
 },
 "nbformat": 4,
 "nbformat_minor": 2
}
