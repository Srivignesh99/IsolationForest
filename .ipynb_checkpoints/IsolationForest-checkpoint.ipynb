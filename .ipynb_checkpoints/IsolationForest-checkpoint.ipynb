{
 "cells": [
  {
   "cell_type": "markdown",
   "metadata": {
    "ExecuteTime": {
     "end_time": "2020-05-06T16:57:57.705221Z",
     "start_time": "2020-05-06T16:57:57.700078Z"
    }
   },
   "source": [
    "<center><h2>Isolation Forest</h2>From scratch</center>"
   ]
  },
  {
   "cell_type": "markdown",
   "metadata": {
    "heading_collapsed": true
   },
   "source": [
    "#### Libraries"
   ]
  },
  {
   "cell_type": "code",
   "execution_count": 1,
   "metadata": {
    "ExecuteTime": {
     "end_time": "2020-05-07T21:31:26.907226Z",
     "start_time": "2020-05-07T21:31:26.889449Z"
    },
    "hidden": true
   },
   "outputs": [
    {
     "data": {
      "application/javascript": [
       "utils.load_extension('collapsible_headings/main')\n",
       "utils.load_extension('hide_input/main')\n",
       "utils.load_extension('autosavetime/main')\n",
       "utils.load_extension('execute_time/ExecuteTime')\n",
       "utils.load_extension('code_prettify/code_prettify')\n",
       "utils.load_extension('scroll_down/main')\n",
       "utils.load_extension('jupyter-js-widgets/extension')\n"
      ],
      "text/plain": [
       "<IPython.core.display.Javascript object>"
      ]
     },
     "metadata": {},
     "output_type": "display_data"
    }
   ],
   "source": [
    "%%javascript\n",
    "utils.load_extension('collapsible_headings/main')\n",
    "utils.load_extension('hide_input/main')\n",
    "utils.load_extension('autosavetime/main')\n",
    "utils.load_extension('execute_time/ExecuteTime')\n",
    "utils.load_extension('code_prettify/code_prettify')\n",
    "utils.load_extension('scroll_down/main')\n",
    "utils.load_extension('jupyter-js-widgets/extension')"
   ]
  },
  {
   "cell_type": "code",
   "execution_count": 2,
   "metadata": {
    "ExecuteTime": {
     "end_time": "2020-05-07T21:31:28.911950Z",
     "start_time": "2020-05-07T21:31:26.910455Z"
    },
    "hidden": true
   },
   "outputs": [],
   "source": [
    "import matplotlib.pyplot as plt\n",
    "import numpy as np\n",
    "import pandas as pd\n",
    "import random\n",
    "from pprint import pprint\n",
    "import seaborn as sns\n",
    "import pdb\n",
    "sns.set_style(style=\"whitegrid\")\n",
    "\n"
   ]
  },
  {
   "cell_type": "markdown",
   "metadata": {},
   "source": [
    "## Sample data"
   ]
  },
  {
   "cell_type": "code",
   "execution_count": 3,
   "metadata": {
    "ExecuteTime": {
     "end_time": "2020-05-07T21:31:29.238870Z",
     "start_time": "2020-05-07T21:31:28.914360Z"
    }
   },
   "outputs": [
    {
     "data": {
      "image/png": "[encoded data removed]",
      "text/plain": [
       "<Figure size 504x504 with 1 Axes>"
      ]
     },
     "metadata": {},
     "output_type": "display_data"
    }
   ],
   "source": [
    "mean = [0, 0]\n",
    "cov = [[1, 0], [0, 1]]  # diagonal covariance\n",
    "Nobjs = 2000\n",
    "x, y = np.random.multivariate_normal(mean, cov, Nobjs).T\n",
    "#Add manual outlier\n",
    "x[0]=3.3\n",
    "y[0]=3.3\n",
    "X=np.array([x,y]).T\n",
    "X = pd.DataFrame(X,columns=['feat1','feat2'])\n",
    "plt.figure(figsize=(7,7))\n",
    "plt.plot(x,y,'bo');"
   ]
  },
  {
   "cell_type": "markdown",
   "metadata": {},
   "source": [
    "## Isolation tree\n",
    " 1. Get sample of data\n",
    " 2. Randomly select dimension\n",
    " 3. Randomly pick a value in the dimension\n",
    " 4. Split the data\n"
   ]
  },
  {
   "cell_type": "markdown",
   "metadata": {},
   "source": [
    "<img src=\"images/tree_pseudo.png\" alt=\"Drawing\" style=\"width: 400px;\"/>"
   ]
  },
  {
   "cell_type": "code",
   "execution_count": 32,
   "metadata": {
    "ExecuteTime": {
     "end_time": "2020-05-07T21:36:31.019528Z",
     "start_time": "2020-05-07T21:36:31.013243Z"
    }
   },
   "outputs": [
    {
     "data": {
      "text/plain": [
       "False"
      ]
     },
     "execution_count": 32,
     "metadata": {},
     "output_type": "execute_result"
    }
   ],
   "source": [
    "b=4\n",
    "b<=3"
   ]
  },
  {
   "cell_type": "markdown",
   "metadata": {},
   "source": [
    "### Sample the data"
   ]
  },
  {
   "cell_type": "code",
   "execution_count": 4,
   "metadata": {
    "ExecuteTime": {
     "end_time": "2020-05-07T21:31:29.250340Z",
     "start_time": "2020-05-07T21:31:29.243692Z"
    }
   },
   "outputs": [],
   "source": [
    "def select_point(data):\n",
    "    n_samples,n_columns = data.shape\n",
    "    return data.iloc[random.choice(list(range(n_samples)))]"
   ]
  },
  {
   "cell_type": "code",
   "execution_count": 5,
   "metadata": {
    "ExecuteTime": {
     "end_time": "2020-05-07T21:31:29.272632Z",
     "start_time": "2020-05-07T21:31:29.255360Z"
    },
    "scrolled": true
   },
   "outputs": [
    {
     "data": {
      "text/plain": [
       "feat1    0.147355\n",
       "feat2   -1.336364\n",
       "Name: 1625, dtype: float64"
      ]
     },
     "execution_count": 5,
     "metadata": {},
     "output_type": "execute_result"
    }
   ],
   "source": [
    "select_point(X)"
   ]
  },
  {
   "cell_type": "markdown",
   "metadata": {
    "ExecuteTime": {
     "end_time": "2020-05-06T16:05:41.616623Z",
     "start_time": "2020-05-06T16:05:41.612745Z"
    }
   },
   "source": [
    "### Select a dimension"
   ]
  },
  {
   "cell_type": "code",
   "execution_count": 6,
   "metadata": {
    "ExecuteTime": {
     "end_time": "2020-05-07T21:31:29.290825Z",
     "start_time": "2020-05-07T21:31:29.287608Z"
    }
   },
   "outputs": [],
   "source": [
    "def select_feature(data): \n",
    "    return random.choice(data.columns)"
   ]
  },
  {
   "cell_type": "markdown",
   "metadata": {},
   "source": [
    "### Select a value in the dimension"
   ]
  },
  {
   "cell_type": "code",
   "execution_count": 7,
   "metadata": {
    "ExecuteTime": {
     "end_time": "2020-05-07T21:31:29.299342Z",
     "start_time": "2020-05-07T21:31:29.293188Z"
    }
   },
   "outputs": [],
   "source": [
    "def select_value(data,feat):\n",
    "    mini = data[feat].min()\n",
    "    maxi = data[feat].max()\n",
    "    return (maxi-mini)*np.random.random()+mini\n",
    "    "
   ]
  },
  {
   "cell_type": "code",
   "execution_count": 8,
   "metadata": {
    "ExecuteTime": {
     "end_time": "2020-05-07T21:31:29.323281Z",
     "start_time": "2020-05-07T21:31:29.304919Z"
    }
   },
   "outputs": [
    {
     "data": {
      "text/plain": [
       "-0.8066062646039218"
      ]
     },
     "execution_count": 8,
     "metadata": {},
     "output_type": "execute_result"
    }
   ],
   "source": [
    "select_value(X,select_feature(X))"
   ]
  },
  {
   "cell_type": "markdown",
   "metadata": {},
   "source": [
    "### Split Data"
   ]
  },
  {
   "cell_type": "code",
   "execution_count": 9,
   "metadata": {
    "ExecuteTime": {
     "end_time": "2020-05-07T21:31:29.354229Z",
     "start_time": "2020-05-07T21:31:29.344724Z"
    }
   },
   "outputs": [],
   "source": [
    "def split_data(data, split_column, split_value):\n",
    "\n",
    "    data_below = data[data[split_column] <= split_value]\n",
    "    data_above = data[data[split_column] >  split_value]\n",
    "    \n",
    "    return data_below, data_above"
   ]
  },
  {
   "cell_type": "code",
   "execution_count": 10,
   "metadata": {
    "ExecuteTime": {
     "end_time": "2020-05-07T21:31:29.372516Z",
     "start_time": "2020-05-07T21:31:29.360291Z"
    }
   },
   "outputs": [],
   "source": [
    "a,b =split_data(X,\n",
    "           select_feature(X),\n",
    "          select_value(X,select_feature(X)))"
   ]
  },
  {
   "cell_type": "markdown",
   "metadata": {},
   "source": [
    "### Isolation Tree"
   ]
  },
  {
   "cell_type": "code",
   "execution_count": 24,
   "metadata": {
    "ExecuteTime": {
     "end_time": "2020-05-07T21:34:07.828445Z",
     "start_time": "2020-05-07T21:34:07.808110Z"
    }
   },
   "outputs": [
    {
     "data": {
      "text/html": [
       "<div>\n",
       "<style scoped>\n",
       "    .dataframe tbody tr th:only-of-type {\n",
       "        vertical-align: middle;\n",
       "    }\n",
       "\n",
       "    .dataframe tbody tr th {\n",
       "        vertical-align: top;\n",
       "    }\n",
       "\n",
       "    .dataframe thead th {\n",
       "        text-align: right;\n",
       "    }\n",
       "</style>\n",
       "<table border=\"1\" class=\"dataframe\">\n",
       "  <thead>\n",
       "    <tr style=\"text-align: right;\">\n",
       "      <th></th>\n",
       "      <th>feat1</th>\n",
       "      <th>feat2</th>\n",
       "    </tr>\n",
       "  </thead>\n",
       "  <tbody>\n",
       "    <tr>\n",
       "      <th>0</th>\n",
       "      <td>3.300000</td>\n",
       "      <td>3.300000</td>\n",
       "    </tr>\n",
       "    <tr>\n",
       "      <th>1</th>\n",
       "      <td>-0.900872</td>\n",
       "      <td>-0.718895</td>\n",
       "    </tr>\n",
       "    <tr>\n",
       "      <th>2</th>\n",
       "      <td>1.290530</td>\n",
       "      <td>0.118936</td>\n",
       "    </tr>\n",
       "    <tr>\n",
       "      <th>3</th>\n",
       "      <td>-0.520820</td>\n",
       "      <td>0.458603</td>\n",
       "    </tr>\n",
       "    <tr>\n",
       "      <th>4</th>\n",
       "      <td>0.737316</td>\n",
       "      <td>0.449972</td>\n",
       "    </tr>\n",
       "    <tr>\n",
       "      <th>...</th>\n",
       "      <td>...</td>\n",
       "      <td>...</td>\n",
       "    </tr>\n",
       "    <tr>\n",
       "      <th>1995</th>\n",
       "      <td>-0.530738</td>\n",
       "      <td>0.726033</td>\n",
       "    </tr>\n",
       "    <tr>\n",
       "      <th>1996</th>\n",
       "      <td>-0.440658</td>\n",
       "      <td>-0.428466</td>\n",
       "    </tr>\n",
       "    <tr>\n",
       "      <th>1997</th>\n",
       "      <td>1.466145</td>\n",
       "      <td>-1.925615</td>\n",
       "    </tr>\n",
       "    <tr>\n",
       "      <th>1998</th>\n",
       "      <td>-0.009200</td>\n",
       "      <td>0.437529</td>\n",
       "    </tr>\n",
       "    <tr>\n",
       "      <th>1999</th>\n",
       "      <td>0.260248</td>\n",
       "      <td>-0.191940</td>\n",
       "    </tr>\n",
       "  </tbody>\n",
       "</table>\n",
       "<p>2000 rows × 2 columns</p>\n",
       "</div>"
      ],
      "text/plain": [
       "         feat1     feat2\n",
       "0     3.300000  3.300000\n",
       "1    -0.900872 -0.718895\n",
       "2     1.290530  0.118936\n",
       "3    -0.520820  0.458603\n",
       "4     0.737316  0.449972\n",
       "...        ...       ...\n",
       "1995 -0.530738  0.726033\n",
       "1996 -0.440658 -0.428466\n",
       "1997  1.466145 -1.925615\n",
       "1998 -0.009200  0.437529\n",
       "1999  0.260248 -0.191940\n",
       "\n",
       "[2000 rows x 2 columns]"
      ]
     },
     "execution_count": 24,
     "metadata": {},
     "output_type": "execute_result"
    }
   ],
   "source": [
    "X"
   ]
  },
  {
   "cell_type": "code",
   "execution_count": 26,
   "metadata": {
    "ExecuteTime": {
     "end_time": "2020-05-07T21:34:30.548301Z",
     "start_time": "2020-05-07T21:34:30.543054Z"
    }
   },
   "outputs": [],
   "source": [
    "def classify_data(data):\n",
    "    \n",
    "    label_column = data.values[:, -1]\n",
    "    unique_classes, counts_unique_classes = np.unique(label_column, return_counts=True)\n",
    "\n",
    "    index = counts_unique_classes.argmax()\n",
    "    classification = unique_classes[index]\n",
    "    \n",
    "    return classification"
   ]
  },
  {
   "cell_type": "code",
   "execution_count": 37,
   "metadata": {
    "ExecuteTime": {
     "end_time": "2020-05-07T21:37:04.514303Z",
     "start_time": "2020-05-07T21:37:04.507473Z"
    }
   },
   "outputs": [
    {
     "data": {
      "text/plain": [
       "-3.226771811981531"
      ]
     },
     "execution_count": 37,
     "metadata": {},
     "output_type": "execute_result"
    }
   ],
   "source": [
    "classify_data(X)"
   ]
  },
  {
   "cell_type": "code",
   "execution_count": 62,
   "metadata": {
    "ExecuteTime": {
     "end_time": "2020-05-07T21:44:38.910786Z",
     "start_time": "2020-05-07T21:44:38.902769Z"
    }
   },
   "outputs": [],
   "source": [
    "def isolation_tree(df,counter=0, max_depth=50,random_subspace=False):\n",
    "        # data preparations\n",
    "    if counter == 0:\n",
    "        global COLUMN_HEADERS   \n",
    "        COLUMN_HEADERS = df.columns\n",
    "        data = df\n",
    "        \n",
    "        global counter_hist\n",
    "        \n",
    "        global instance\n",
    "        instance = select_point(data)\n",
    "   \n",
    "    else:\n",
    "        data = df\n",
    "       \n",
    "\n",
    "    \n",
    "    if (counter == max_depth) or data.shape[0]<=1:\n",
    "        classification = classify_data(data)\n",
    "        print('class',classification)\n",
    "\n",
    "        return classification\n",
    "    \n",
    "    else:\n",
    "        # Counter\n",
    "        counter +=1\n",
    "        \n",
    "        # Select feature\n",
    "        split_column = select_feature(data)\n",
    "        \n",
    "        # Select value\n",
    "        split_value = select_value(data,split_column)\n",
    "        print(split_value)\n",
    "\n",
    "        # Split data\n",
    "        data_below, data_above = split_data(data,split_column,split_value)\n",
    "        \n",
    "        \n",
    "        \n",
    "        # instantiate sub-tree      \n",
    "        question = \"{} <= {}\".format(split_column, split_value)\n",
    "        sub_tree = {question: []}\n",
    "        \n",
    "         # find answers (recursion)\n",
    "        yes_answer = isolation_tree(data_below, counter)\n",
    "        no_answer = isolation_tree(data_above, counter)\n",
    "        \n",
    "        # If the answers are the same, then there is no point in asking the qestion.\n",
    "        # This could happen when the data is classified even though it is not pure\n",
    "        # yet (min_samples or max_depth base cases).\n",
    "        if yes_answer == no_answer:\n",
    "            sub_tree = yes_answer\n",
    "        else:\n",
    "            sub_tree[question].append(yes_answer)\n",
    "            sub_tree[question].append(no_answer)\n",
    "        \n",
    "        return sub_tree\n",
    "    \n",
    "    \n",
    "        \n",
    "    "
   ]
  },
  {
   "cell_type": "code",
   "execution_count": 65,
   "metadata": {
    "ExecuteTime": {
     "end_time": "2020-05-07T21:45:05.023049Z",
     "start_time": "2020-05-07T21:45:05.004186Z"
    }
   },
   "outputs": [
    {
     "name": "stdout",
     "output_type": "stream",
     "text": [
      "3.0358848332752735\n",
      "-0.027488611627374593\n",
      "-0.578735631544814\n",
      "class -0.7188946792098038\n",
      "class 0.458603017600855\n",
      "1.2272755304376504\n",
      "1.1432186993045341\n",
      "class 0.4499721683109122\n",
      "class 1.954082876296153\n",
      "class 0.11893590204236246\n",
      "class 3.3\n",
      "{'feat1 <= 3.0358848332752735': [{'feat1 <= -0.027488611627374593': [{'feat1 <= -0.578735631544814': [-0.7188946792098038,\n",
      "                                                                                                      0.458603017600855]},\n",
      "                                                                     {'feat1 <= 1.2272755304376504': [{'feat2 <= 1.1432186993045341': [0.4499721683109122,\n",
      "                                                                                                                                       1.954082876296153]},\n",
      "                                                                                                      0.11893590204236246]}]},\n",
      "                                 3.3]}\n"
     ]
    }
   ],
   "source": [
    "tree = isolation_tree(X.head(6), max_depth=3)\n",
    "pprint(tree)"
   ]
  },
  {
   "cell_type": "code",
   "execution_count": 66,
   "metadata": {
    "ExecuteTime": {
     "end_time": "2020-05-07T21:45:07.159627Z",
     "start_time": "2020-05-07T21:45:07.148079Z"
    },
    "scrolled": true
   },
   "outputs": [
    {
     "name": "stdout",
     "output_type": "stream",
     "text": [
      "{'feat1 <= 3.0358848332752735': [{'feat1 <= -0.027488611627374593': [{'feat1 <= -0.578735631544814': [-0.7188946792098038,\n",
      "                                                                                                      0.458603017600855]},\n",
      "                                                                     {'feat1 <= 1.2272755304376504': [{'feat2 <= 1.1432186993045341': [0.4499721683109122,\n",
      "                                                                                                                                       1.954082876296153]},\n",
      "                                                                                                      0.11893590204236246]}]},\n",
      "                                 3.3]}\n"
     ]
    }
   ],
   "source": [
    "pprint(tree)"
   ]
  },
  {
   "cell_type": "code",
   "execution_count": 54,
   "metadata": {
    "ExecuteTime": {
     "end_time": "2020-05-07T21:39:21.000638Z",
     "start_time": "2020-05-07T21:39:20.990613Z"
    }
   },
   "outputs": [
    {
     "data": {
      "text/html": [
       "<div>\n",
       "<style scoped>\n",
       "    .dataframe tbody tr th:only-of-type {\n",
       "        vertical-align: middle;\n",
       "    }\n",
       "\n",
       "    .dataframe tbody tr th {\n",
       "        vertical-align: top;\n",
       "    }\n",
       "\n",
       "    .dataframe thead th {\n",
       "        text-align: right;\n",
       "    }\n",
       "</style>\n",
       "<table border=\"1\" class=\"dataframe\">\n",
       "  <thead>\n",
       "    <tr style=\"text-align: right;\">\n",
       "      <th></th>\n",
       "      <th>feat1</th>\n",
       "      <th>feat2</th>\n",
       "    </tr>\n",
       "  </thead>\n",
       "  <tbody>\n",
       "    <tr>\n",
       "      <th>0</th>\n",
       "      <td>3.300000</td>\n",
       "      <td>3.300000</td>\n",
       "    </tr>\n",
       "    <tr>\n",
       "      <th>1</th>\n",
       "      <td>-0.900872</td>\n",
       "      <td>-0.718895</td>\n",
       "    </tr>\n",
       "  </tbody>\n",
       "</table>\n",
       "</div>"
      ],
      "text/plain": [
       "      feat1     feat2\n",
       "0  3.300000  3.300000\n",
       "1 -0.900872 -0.718895"
      ]
     },
     "execution_count": 54,
     "metadata": {},
     "output_type": "execute_result"
    }
   ],
   "source": [
    "X.head(2)"
   ]
  },
  {
   "cell_type": "code",
   "execution_count": 14,
   "metadata": {
    "ExecuteTime": {
     "end_time": "2020-05-07T21:31:29.603971Z",
     "start_time": "2020-05-07T21:31:29.428305Z"
    }
   },
   "outputs": [
    {
     "ename": "AttributeError",
     "evalue": "'str' object has no attribute 'values'",
     "output_type": "error",
     "traceback": [
      "\u001b[0;31m---------------------------------------------------------------------------\u001b[0m",
      "\u001b[0;31mAttributeError\u001b[0m                            Traceback (most recent call last)",
      "\u001b[0;32m<ipython-input-14-ce9f30ccc55c>\u001b[0m in \u001b[0;36m<module>\u001b[0;34m\u001b[0m\n\u001b[0;32m----> 1\u001b[0;31m \u001b[0mtree\u001b[0m\u001b[0;34m.\u001b[0m\u001b[0mvalues\u001b[0m\u001b[0;34m(\u001b[0m\u001b[0;34m)\u001b[0m\u001b[0;34m\u001b[0m\u001b[0;34m\u001b[0m\u001b[0m\n\u001b[0m",
      "\u001b[0;31mAttributeError\u001b[0m: 'str' object has no attribute 'values'"
     ]
    }
   ],
   "source": [
    "tree.values()"
   ]
  },
  {
   "cell_type": "code",
   "execution_count": null,
   "metadata": {
    "ExecuteTime": {
     "end_time": "2020-05-07T21:31:29.604649Z",
     "start_time": "2020-05-07T21:31:26.909Z"
    }
   },
   "outputs": [],
   "source": [
    "counter_hist"
   ]
  },
  {
   "cell_type": "code",
   "execution_count": null,
   "metadata": {
    "ExecuteTime": {
     "end_time": "2020-05-07T21:31:29.605661Z",
     "start_time": "2020-05-07T21:31:26.910Z"
    }
   },
   "outputs": [],
   "source": [
    "list(tree.keys())[0]"
   ]
  },
  {
   "cell_type": "code",
   "execution_count": null,
   "metadata": {
    "ExecuteTime": {
     "end_time": "2020-05-07T21:31:29.607257Z",
     "start_time": "2020-05-07T21:31:26.912Z"
    }
   },
   "outputs": [],
   "source": [
    "question = list(tree.keys())[0]\n",
    "feature_name, comparison_operator, value = question.split()"
   ]
  },
  {
   "cell_type": "code",
   "execution_count": null,
   "metadata": {
    "ExecuteTime": {
     "end_time": "2020-05-07T21:31:29.609077Z",
     "start_time": "2020-05-07T21:31:26.914Z"
    }
   },
   "outputs": [],
   "source": [
    "def classify_example(example, tree):\n",
    "    question = list(tree.keys())[0]\n",
    "    feature_name, comparison_operator, value = question.split()\n",
    "\n",
    "    # ask question\n",
    "    if example[feature_name] <= float(value):\n",
    "        answer = tree[question][0]\n",
    "        print(answer)\n",
    "    else:\n",
    "        answer = tree[question][1]\n",
    "        print(answer)\n",
    "    # base case\n",
    "    if not isinstance(answer, dict):\n",
    "        return answer\n",
    "    \n",
    "    # recursive part\n",
    "    else:\n",
    "        residual_tree = answer\n",
    "        return classify_example(example, residual_tree)"
   ]
  },
  {
   "cell_type": "code",
   "execution_count": null,
   "metadata": {
    "ExecuteTime": {
     "end_time": "2020-05-07T21:31:29.609971Z",
     "start_time": "2020-05-07T21:31:26.916Z"
    }
   },
   "outputs": [],
   "source": [
    "classify_example(X.iloc[1],tree)"
   ]
  },
  {
   "cell_type": "markdown",
   "metadata": {},
   "source": [
    "# Forest\n",
    "\n",
    " 1. For each tree\n",
    " 2. Sample Data\n",
    " 3. Fit tree"
   ]
  },
  {
   "cell_type": "markdown",
   "metadata": {},
   "source": [
    "<img src=\"images/forest_pseudo.png\" alt=\"Drawing\" style=\"width: 400px;\"/>"
   ]
  },
  {
   "cell_type": "code",
   "execution_count": null,
   "metadata": {
    "ExecuteTime": {
     "end_time": "2020-05-07T21:31:29.612308Z",
     "start_time": "2020-05-07T21:31:26.918Z"
    }
   },
   "outputs": [],
   "source": [
    "def isolation_forest(df,n_trees=5, max_depth=5, subspace=1):\n",
    "    forest = []\n",
    "\n",
    "    for i in range(n_trees):\n",
    "        # Sample the subspace\n",
    "        df = df.sample(frac=subspace)\n",
    "\n",
    "        # Fit tree\n",
    "        tree = isolation_tree(df)\n",
    "        \n",
    "        # Save tree to forest\n",
    "        forest.append(tree)\n",
    "    \n",
    "    return forest\n",
    "        \n",
    "        "
   ]
  },
  {
   "cell_type": "code",
   "execution_count": null,
   "metadata": {
    "ExecuteTime": {
     "end_time": "2020-05-07T21:31:29.618249Z",
     "start_time": "2020-05-07T21:31:26.920Z"
    }
   },
   "outputs": [],
   "source": [
    "isolation_forest(X);\n"
   ]
  },
  {
   "cell_type": "markdown",
   "metadata": {},
   "source": [
    "## Path Length"
   ]
  },
  {
   "cell_type": "markdown",
   "metadata": {
    "ExecuteTime": {
     "end_time": "2020-05-06T16:51:47.691834Z",
     "start_time": "2020-05-06T16:51:47.687093Z"
    }
   },
   "source": [
    "<img src=\"images/path_pseudo.png\" alt=\"Drawing\" style=\"width: 400px;\"/>"
   ]
  },
  {
   "cell_type": "code",
   "execution_count": 55,
   "metadata": {
    "ExecuteTime": {
     "end_time": "2020-05-07T21:40:23.788263Z",
     "start_time": "2020-05-07T21:40:23.784338Z"
    }
   },
   "outputs": [],
   "source": [
    "def c_factor(n) :\n",
    "    \"\"\"\n",
    "    Average path length of unsuccesful search in a binary search tree given n points\n",
    "    \n",
    "    Parameters\n",
    "    ----------\n",
    "    n : int\n",
    "        Number of data points for the BST.\n",
    "    Returns\n",
    "    -------\n",
    "    float\n",
    "        Average path length of unsuccesful search in a BST\n",
    "        \n",
    "    \"\"\"\n",
    "    return 2.0*(np.log(n-1)+0.5772156649) - (2.0*(n-1.)/(n*1.0))"
   ]
  },
  {
   "cell_type": "code",
   "execution_count": 56,
   "metadata": {
    "ExecuteTime": {
     "end_time": "2020-05-07T21:40:31.034951Z",
     "start_time": "2020-05-07T21:40:31.028929Z"
    }
   },
   "outputs": [
    {
     "data": {
      "text/plain": [
       "1.8516559071362195"
      ]
     },
     "execution_count": 56,
     "metadata": {},
     "output_type": "execute_result"
    }
   ],
   "source": [
    "c_factor(4)"
   ]
  },
  {
   "cell_type": "code",
   "execution_count": null,
   "metadata": {},
   "outputs": [],
   "source": []
  }
 ],
 "metadata": {
  "kernelspec": {
   "display_name": "Python 3",
   "language": "python",
   "name": "python3"
  },
  "language_info": {
   "codemirror_mode": {
    "name": "ipython",
    "version": 3
   },
   "file_extension": ".py",
   "mimetype": "text/x-python",
   "name": "python",
   "nbconvert_exporter": "python",
   "pygments_lexer": "ipython3",
   "version": "3.6.8"
  }
 },
 "nbformat": 4,
 "nbformat_minor": 2
}
